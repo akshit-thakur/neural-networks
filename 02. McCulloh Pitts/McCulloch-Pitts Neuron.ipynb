{
 "cells": [
  {
   "cell_type": "markdown",
   "metadata": {},
   "source": [
    "# McCulloch-Pitts Neuron"
   ]
  },
  {
   "cell_type": "markdown",
   "metadata": {},
   "source": [
    "It is based on threshold principle. \n",
    "The output y of a McCulloh-Pitts(MP) Neuron should be above a certain value called threshold so that it is true for all values above that threshold and false for all output values below it.\n",
    "\n",
    "\n",
    "\n",
    "### $$y=Q(v)=+1,v \\geqslant \\theta$$\n",
    "### $$y=Q(v)=-1,v < \\theta$$\n",
    "\n",
    "\n",
    "Here, $\\theta$ is the threshold value  \n",
    "\n"
   ]
  },
  {
   "cell_type": "markdown",
   "metadata": {},
   "source": [
    "## AND gate"
   ]
  },
  {
   "cell_type": "markdown",
   "metadata": {},
   "source": [
    "##### Truth Table"
   ]
  },
  {
   "cell_type": "markdown",
   "metadata": {},
   "source": [
    "| x1 | x2 | y |\n",
    "| --- | --- | --- |\n",
    "| +1 | +1 | +1 |\n",
    "| +1 | -1 | -1 |\n",
    "| -1 | +1 | -1 |\n",
    "| -1 | -1 | -1 |"
   ]
  },
  {
   "cell_type": "markdown",
   "metadata": {},
   "source": [
    "### Library Import"
   ]
  },
  {
   "cell_type": "code",
   "execution_count": 2,
   "metadata": {},
   "outputs": [],
   "source": [
    "import pandas as pd"
   ]
  },
  {
   "cell_type": "markdown",
   "metadata": {},
   "source": [
    "### Reading the file/Getting Input"
   ]
  },
  {
   "cell_type": "code",
   "execution_count": 3,
   "metadata": {},
   "outputs": [
    {
     "data": {
      "text/html": [
       "<div>\n",
       "<style scoped>\n",
       "    .dataframe tbody tr th:only-of-type {\n",
       "        vertical-align: middle;\n",
       "    }\n",
       "\n",
       "    .dataframe tbody tr th {\n",
       "        vertical-align: top;\n",
       "    }\n",
       "\n",
       "    .dataframe thead th {\n",
       "        text-align: right;\n",
       "    }\n",
       "</style>\n",
       "<table border=\"1\" class=\"dataframe\">\n",
       "  <thead>\n",
       "    <tr style=\"text-align: right;\">\n",
       "      <th></th>\n",
       "      <th>x1</th>\n",
       "      <th>x2</th>\n",
       "      <th>t</th>\n",
       "    </tr>\n",
       "  </thead>\n",
       "  <tbody>\n",
       "    <tr>\n",
       "      <th>0</th>\n",
       "      <td>1</td>\n",
       "      <td>1</td>\n",
       "      <td>1</td>\n",
       "    </tr>\n",
       "    <tr>\n",
       "      <th>1</th>\n",
       "      <td>1</td>\n",
       "      <td>-1</td>\n",
       "      <td>-1</td>\n",
       "    </tr>\n",
       "    <tr>\n",
       "      <th>2</th>\n",
       "      <td>-1</td>\n",
       "      <td>1</td>\n",
       "      <td>-1</td>\n",
       "    </tr>\n",
       "    <tr>\n",
       "      <th>3</th>\n",
       "      <td>-1</td>\n",
       "      <td>-1</td>\n",
       "      <td>-1</td>\n",
       "    </tr>\n",
       "  </tbody>\n",
       "</table>\n",
       "</div>"
      ],
      "text/plain": [
       "   x1  x2  t\n",
       "0   1   1  1\n",
       "1   1  -1 -1\n",
       "2  -1   1 -1\n",
       "3  -1  -1 -1"
      ]
     },
     "execution_count": 3,
     "metadata": {},
     "output_type": "execute_result"
    }
   ],
   "source": [
    "df = pd.read_csv('mpAndGate.csv')\n",
    "df"
   ]
  },
  {
   "cell_type": "code",
   "execution_count": 4,
   "metadata": {},
   "outputs": [
    {
     "name": "stdout",
     "output_type": "stream",
     "text": [
      "The inputs are: [[1, 1], [1, -1], [-1, 1], [-1, -1]]\n"
     ]
    }
   ],
   "source": [
    "x = []\n",
    "for index, row in df.iterrows():\n",
    "    x.append([row['x1'], row['x2']])\n",
    "print(f'The inputs are: {x}')"
   ]
  },
  {
   "cell_type": "markdown",
   "metadata": {},
   "source": [
    "### Setting the weights"
   ]
  },
  {
   "cell_type": "code",
   "execution_count": 5,
   "metadata": {
    "scrolled": true
   },
   "outputs": [
    {
     "name": "stdout",
     "output_type": "stream",
     "text": [
      "Enter first weight: 5\n",
      "Enter second weight: 6\n",
      "The weights are [5, 6]\n"
     ]
    }
   ],
   "source": [
    "weights = [int(input('Enter first weight: ')),int(input('Enter second weight: '))]\n",
    "\n",
    "print(f'The weights are {weights}')"
   ]
  },
  {
   "cell_type": "markdown",
   "metadata": {},
   "source": [
    "### Iterating the file"
   ]
  },
  {
   "cell_type": "code",
   "execution_count": 6,
   "metadata": {},
   "outputs": [
    {
     "name": "stdout",
     "output_type": "stream",
     "text": [
      "The output for weights [5, 6] is [11, -1, 1, -11]\n",
      "There are 1 values above threshold\n"
     ]
    }
   ],
   "source": [
    "results = [] #stores the 4 results of x1*w1+x2*w2\n",
    "\n",
    "result = 0 #current row\n",
    "for entry in x:\n",
    "    result = (entry[0]*weights[0] + entry[1]*weights[1]) #calculate current row\n",
    "    results.append(result) #append it to result table\n",
    "    \n",
    "print(f'The output for weights {weights} is {results}')\n",
    "\n",
    "threshold= max(results[1:len(results)])+1 #as it is AND gate we see the highest -1 goes and put +1 over it to find threshold\n",
    "\n",
    "crossThreshold = len([result for result in results if result>=threshold]) #all the outputs >= max(non-first)+1\n",
    "\n",
    "print(f'There are {crossThreshold} values above threshold') #length gives number        \n",
    "\n",
    "#Now we reset weights based on input, redo it and find if now only one element crosses threshold\n",
    "while crossThreshold != 1: #we only need one element to cross threshold(assuming non-negative weights)\n",
    "    weights = [(int(input('Enter first weight '))),(int(input('Enter second weight ')))]\n",
    "    \n",
    "    results = [] \n",
    "    result = 0\n",
    "    \n",
    "    for entry in x:\n",
    "        result = (entry[0]*weights[0] + entry[1]*weights[1])\n",
    "        results.append(result)\n",
    "    \n",
    "    threshold=max(results[1:len(results)])+1\n",
    "    \n",
    "    crossThreshold = len([result for result in results if result>=threshold])\n",
    "    print(f'The output for weights {weights} is {results}')\n",
    "    print(f'There are {len(crossThreshold)} values above threshold {threshold}')"
   ]
  },
  {
   "cell_type": "markdown",
   "metadata": {},
   "source": [
    "## Printing the result"
   ]
  },
  {
   "cell_type": "code",
   "execution_count": 7,
   "metadata": {},
   "outputs": [
    {
     "name": "stdout",
     "output_type": "stream",
     "text": [
      "The threshold value for the AND gate is: 2\n",
      "The final weights are: [5, 6]\n"
     ]
    }
   ],
   "source": [
    "print(f'The threshold value for the AND gate is: {threshold}')\n",
    "print(f'The final weights are: {weights}')"
   ]
  },
  {
   "cell_type": "markdown",
   "metadata": {},
   "source": [
    "### Verifying Result"
   ]
  },
  {
   "cell_type": "code",
   "execution_count": 8,
   "metadata": {},
   "outputs": [
    {
     "name": "stdout",
     "output_type": "stream",
     "text": [
      "The target output is : [1, -1, -1, -1]\n",
      "The actual output is : [1, -1, -1, -1]\n"
     ]
    }
   ],
   "source": [
    "targets = list(df['t']) #what was in the actual results is in the file.\n",
    "\n",
    "y = [] #what we calculate based on our waits\n",
    "for entry in x:\n",
    "    result = weights[0]*entry[0] + weights[1]*entry[1]\n",
    "    y.append(result)\n",
    "\n",
    "for index in range(0,len(y)):\n",
    "    if y[index] >= threshold: #crosses threshold -> +1\n",
    "        y[index] = 1\n",
    "    else: #doesn't cross threshold -> -1\n",
    "        y[index] = -1\n",
    "    \n",
    "print(f'The target output is : {targets}')\n",
    "print(f'The actual output is : {y}')\n",
    "#We see both of them are same so result is verified"
   ]
  },
  {
   "cell_type": "markdown",
   "metadata": {},
   "source": [
    "## For OR gate"
   ]
  },
  {
   "cell_type": "markdown",
   "metadata": {},
   "source": [
    "##### Truth Table"
   ]
  },
  {
   "cell_type": "markdown",
   "metadata": {},
   "source": [
    "| x1 | x2 | y |\n",
    "| --- | --- | --- |\n",
    "| +1 | +1 | +1 |\n",
    "| +1 | -1 | +1 |\n",
    "| -1 | +1 | +1 |\n",
    "| -1 | -1 | -1 |"
   ]
  },
  {
   "cell_type": "markdown",
   "metadata": {},
   "source": [
    "### Reading the file"
   ]
  },
  {
   "cell_type": "code",
   "execution_count": 13,
   "metadata": {},
   "outputs": [
    {
     "data": {
      "text/html": [
       "<div>\n",
       "<style scoped>\n",
       "    .dataframe tbody tr th:only-of-type {\n",
       "        vertical-align: middle;\n",
       "    }\n",
       "\n",
       "    .dataframe tbody tr th {\n",
       "        vertical-align: top;\n",
       "    }\n",
       "\n",
       "    .dataframe thead th {\n",
       "        text-align: right;\n",
       "    }\n",
       "</style>\n",
       "<table border=\"1\" class=\"dataframe\">\n",
       "  <thead>\n",
       "    <tr style=\"text-align: right;\">\n",
       "      <th></th>\n",
       "      <th>x1</th>\n",
       "      <th>x2</th>\n",
       "      <th>t</th>\n",
       "    </tr>\n",
       "  </thead>\n",
       "  <tbody>\n",
       "    <tr>\n",
       "      <th>0</th>\n",
       "      <td>1</td>\n",
       "      <td>1</td>\n",
       "      <td>1</td>\n",
       "    </tr>\n",
       "    <tr>\n",
       "      <th>1</th>\n",
       "      <td>1</td>\n",
       "      <td>-1</td>\n",
       "      <td>1</td>\n",
       "    </tr>\n",
       "    <tr>\n",
       "      <th>2</th>\n",
       "      <td>-1</td>\n",
       "      <td>1</td>\n",
       "      <td>1</td>\n",
       "    </tr>\n",
       "    <tr>\n",
       "      <th>3</th>\n",
       "      <td>-1</td>\n",
       "      <td>-1</td>\n",
       "      <td>-1</td>\n",
       "    </tr>\n",
       "  </tbody>\n",
       "</table>\n",
       "</div>"
      ],
      "text/plain": [
       "   x1  x2  t\n",
       "0   1   1  1\n",
       "1   1  -1  1\n",
       "2  -1   1  1\n",
       "3  -1  -1 -1"
      ]
     },
     "execution_count": 13,
     "metadata": {},
     "output_type": "execute_result"
    }
   ],
   "source": [
    "df2 = pd.read_csv('mpOrGate.csv')\n",
    "\n",
    "df2"
   ]
  },
  {
   "cell_type": "code",
   "execution_count": 14,
   "metadata": {},
   "outputs": [
    {
     "name": "stdout",
     "output_type": "stream",
     "text": [
      "The inputs are: [[1, 1], [1, -1], [-1, 1], [-1, -1]]\n"
     ]
    }
   ],
   "source": [
    "x= []\n",
    "for index,row in df2.iterrows():\n",
    "    x.append([row['x1'],row['x2']])\n",
    "\n",
    "print(f'The inputs are: {x}')"
   ]
  },
  {
   "cell_type": "markdown",
   "metadata": {},
   "source": [
    "### Setting the weights"
   ]
  },
  {
   "cell_type": "code",
   "execution_count": 17,
   "metadata": {},
   "outputs": [
    {
     "name": "stdout",
     "output_type": "stream",
     "text": [
      "Enter first weight: 5\n",
      "Enter second weight: 7\n",
      "The weights are [5, 7]\n"
     ]
    }
   ],
   "source": [
    "# weights = [random.randrange(1,10),random.randrange(1,10)]\n",
    "\n",
    "weights = [int(input('Enter first weight: ')),int(input('Enter second weight: '))]\n",
    "\n",
    "print(f'The weights are {weights}')"
   ]
  },
  {
   "cell_type": "markdown",
   "metadata": {},
   "source": [
    "### Iterating the file"
   ]
  },
  {
   "cell_type": "code",
   "execution_count": 18,
   "metadata": {},
   "outputs": [
    {
     "name": "stdout",
     "output_type": "stream",
     "text": [
      "The output for weights [5, 7] is [12, -2, 2, -12]\n",
      "There are 3 values above threshold -2\n"
     ]
    }
   ],
   "source": [
    "results = [] #stores the 4 results of x1*w1+x2*w2\n",
    "\n",
    "result = 0 #current row\n",
    "for entry in x:\n",
    "    result = (entry[0]*weights[0] + entry[1]*weights[1]) #calculate current row\n",
    "    results.append(result) #append it to result table\n",
    "    \n",
    "print(f'The output for weights {weights} is {results}')\n",
    "\n",
    "threshold = min(results[0:len(results)-1]) \n",
    "#as it is OR gate, the last value has to minimum. So we choose minimum from first 3 rows and get minimum threshold needed\n",
    "\n",
    "crossThreshold = [result for result in results if result>=threshold] #all the outputs > last value\n",
    "\n",
    "print(f'There are {len(crossThreshold)} values above threshold {threshold}')\n",
    "\n",
    "# weights[0],weights[1],threshold = checkIfReducible(cT=crossThreshold,w=weights,x=x,threshold=threshold)\n",
    "\n",
    "while len(crossThreshold) > 3: #we need only 3 crossing the threshold\n",
    "    weights = [int(input('Enter first weight ')),int(input('Enter second weight '))]\n",
    "    results = []\n",
    "    result = 0\n",
    "    \n",
    "    for entry in x:\n",
    "        result = (entry[0]*weights[0] + entry[1]*weights[1])\n",
    "        results.append(result)\n",
    "    \n",
    "    threshold=min(results[0:len(results)-1])\n",
    "    \n",
    "    crossThreshold = [result for result in results if result>=threshold]\n",
    "    \n",
    "    print(f'The output for weights {weights} is {results}')\n",
    "    print(f'There are {len(crossThreshold)} values above threshold {threshold}')\n",
    "    \n",
    "# weights[0],weights[1],threshold = checkIfReducible(cT=crossThreshold,w=weights,x=x,threshold=threshold)"
   ]
  },
  {
   "cell_type": "markdown",
   "metadata": {},
   "source": [
    "### Printing Result"
   ]
  },
  {
   "cell_type": "code",
   "execution_count": 19,
   "metadata": {},
   "outputs": [
    {
     "name": "stdout",
     "output_type": "stream",
     "text": [
      "The threshold value for the OR gate is: -2\n",
      "The final weights are: [5, 7]\n"
     ]
    }
   ],
   "source": [
    "print(f'The threshold value for the OR gate is: {threshold}')\n",
    "print(f'The final weights are: {weights}')"
   ]
  },
  {
   "cell_type": "markdown",
   "metadata": {},
   "source": [
    "### Verifying Result"
   ]
  },
  {
   "cell_type": "code",
   "execution_count": 20,
   "metadata": {},
   "outputs": [
    {
     "name": "stdout",
     "output_type": "stream",
     "text": [
      "The target output is : [1, 1, 1, -1]\n",
      "The actual output is : [1, 1, 1, -1]\n"
     ]
    }
   ],
   "source": [
    "targets = list(df2['t'])\n",
    "\n",
    "y = []\n",
    "for entry in x:\n",
    "    result = weights[0]*entry[0] + weights[1]*entry[1]\n",
    "    y.append(result)\n",
    "\n",
    "for index in range(0,len(y)):\n",
    "    if y[index] >= threshold:\n",
    "        y[index] = 1\n",
    "    else:\n",
    "        y[index] = -1\n",
    "    \n",
    "print(f'The target output is : {targets}')\n",
    "print(f'The actual output is : {y}')"
   ]
  },
  {
   "cell_type": "code",
   "execution_count": null,
   "metadata": {},
   "outputs": [],
   "source": []
  }
 ],
 "metadata": {
  "kernelspec": {
   "display_name": "Python 3",
   "language": "python",
   "name": "python3"
  },
  "language_info": {
   "codemirror_mode": {
    "name": "ipython",
    "version": 3
   },
   "file_extension": ".py",
   "mimetype": "text/x-python",
   "name": "python",
   "nbconvert_exporter": "python",
   "pygments_lexer": "ipython3",
   "version": "3.7.4"
  }
 },
 "nbformat": 4,
 "nbformat_minor": 4
}
