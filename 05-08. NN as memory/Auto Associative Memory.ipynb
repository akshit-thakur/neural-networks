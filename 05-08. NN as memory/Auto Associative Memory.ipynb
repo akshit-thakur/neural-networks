{
 "cells": [
  {
   "cell_type": "markdown",
   "metadata": {},
   "source": [
    "# Auto Associative Memory"
   ]
  },
  {
   "cell_type": "markdown",
   "metadata": {},
   "source": [
    "## Importing Libraries"
   ]
  },
  {
   "cell_type": "code",
   "execution_count": 2,
   "metadata": {},
   "outputs": [],
   "source": [
    "import pandas as pd"
   ]
  },
  {
   "cell_type": "markdown",
   "metadata": {},
   "source": [
    "## Importing Dataset"
   ]
  },
  {
   "cell_type": "code",
   "execution_count": 8,
   "metadata": {
    "scrolled": true
   },
   "outputs": [
    {
     "data": {
      "text/html": [
       "<div>\n",
       "<style scoped>\n",
       "    .dataframe tbody tr th:only-of-type {\n",
       "        vertical-align: middle;\n",
       "    }\n",
       "\n",
       "    .dataframe tbody tr th {\n",
       "        vertical-align: top;\n",
       "    }\n",
       "\n",
       "    .dataframe thead th {\n",
       "        text-align: right;\n",
       "    }\n",
       "</style>\n",
       "<table border=\"1\" class=\"dataframe\">\n",
       "  <thead>\n",
       "    <tr style=\"text-align: right;\">\n",
       "      <th></th>\n",
       "      <th>x1</th>\n",
       "      <th>x2</th>\n",
       "      <th>x3</th>\n",
       "      <th>x4</th>\n",
       "      <th>x5</th>\n",
       "      <th>x6</th>\n",
       "      <th>x7</th>\n",
       "      <th>t1</th>\n",
       "      <th>t2</th>\n",
       "      <th>t3</th>\n",
       "      <th>t4</th>\n",
       "      <th>t5</th>\n",
       "      <th>t6</th>\n",
       "      <th>t7</th>\n",
       "    </tr>\n",
       "  </thead>\n",
       "  <tbody>\n",
       "    <tr>\n",
       "      <th>0</th>\n",
       "      <td>1</td>\n",
       "      <td>1</td>\n",
       "      <td>1</td>\n",
       "      <td>-1</td>\n",
       "      <td>1</td>\n",
       "      <td>1</td>\n",
       "      <td>1</td>\n",
       "      <td>-1</td>\n",
       "      <td>-1</td>\n",
       "      <td>-1</td>\n",
       "      <td>-1</td>\n",
       "      <td>1</td>\n",
       "      <td>1</td>\n",
       "      <td>-1</td>\n",
       "    </tr>\n",
       "    <tr>\n",
       "      <th>1</th>\n",
       "      <td>-1</td>\n",
       "      <td>-1</td>\n",
       "      <td>1</td>\n",
       "      <td>-1</td>\n",
       "      <td>-1</td>\n",
       "      <td>1</td>\n",
       "      <td>-1</td>\n",
       "      <td>-1</td>\n",
       "      <td>-1</td>\n",
       "      <td>-1</td>\n",
       "      <td>-1</td>\n",
       "      <td>1</td>\n",
       "      <td>-1</td>\n",
       "      <td>1</td>\n",
       "    </tr>\n",
       "    <tr>\n",
       "      <th>2</th>\n",
       "      <td>1</td>\n",
       "      <td>-1</td>\n",
       "      <td>1</td>\n",
       "      <td>1</td>\n",
       "      <td>1</td>\n",
       "      <td>-1</td>\n",
       "      <td>1</td>\n",
       "      <td>-1</td>\n",
       "      <td>-1</td>\n",
       "      <td>-1</td>\n",
       "      <td>-1</td>\n",
       "      <td>1</td>\n",
       "      <td>-1</td>\n",
       "      <td>-1</td>\n",
       "    </tr>\n",
       "    <tr>\n",
       "      <th>3</th>\n",
       "      <td>1</td>\n",
       "      <td>-1</td>\n",
       "      <td>1</td>\n",
       "      <td>1</td>\n",
       "      <td>-1</td>\n",
       "      <td>1</td>\n",
       "      <td>1</td>\n",
       "      <td>-1</td>\n",
       "      <td>-1</td>\n",
       "      <td>-1</td>\n",
       "      <td>-1</td>\n",
       "      <td>-1</td>\n",
       "      <td>1</td>\n",
       "      <td>1</td>\n",
       "    </tr>\n",
       "    <tr>\n",
       "      <th>4</th>\n",
       "      <td>-1</td>\n",
       "      <td>1</td>\n",
       "      <td>1</td>\n",
       "      <td>1</td>\n",
       "      <td>-1</td>\n",
       "      <td>1</td>\n",
       "      <td>-1</td>\n",
       "      <td>-1</td>\n",
       "      <td>-1</td>\n",
       "      <td>-1</td>\n",
       "      <td>-1</td>\n",
       "      <td>-1</td>\n",
       "      <td>1</td>\n",
       "      <td>-1</td>\n",
       "    </tr>\n",
       "    <tr>\n",
       "      <th>5</th>\n",
       "      <td>1</td>\n",
       "      <td>1</td>\n",
       "      <td>-1</td>\n",
       "      <td>1</td>\n",
       "      <td>-1</td>\n",
       "      <td>1</td>\n",
       "      <td>1</td>\n",
       "      <td>-1</td>\n",
       "      <td>-1</td>\n",
       "      <td>-1</td>\n",
       "      <td>-1</td>\n",
       "      <td>-1</td>\n",
       "      <td>-1</td>\n",
       "      <td>1</td>\n",
       "    </tr>\n",
       "    <tr>\n",
       "      <th>6</th>\n",
       "      <td>1</td>\n",
       "      <td>1</td>\n",
       "      <td>-1</td>\n",
       "      <td>1</td>\n",
       "      <td>1</td>\n",
       "      <td>1</td>\n",
       "      <td>1</td>\n",
       "      <td>-1</td>\n",
       "      <td>-1</td>\n",
       "      <td>-1</td>\n",
       "      <td>-1</td>\n",
       "      <td>-1</td>\n",
       "      <td>-1</td>\n",
       "      <td>-1</td>\n",
       "    </tr>\n",
       "  </tbody>\n",
       "</table>\n",
       "</div>"
      ],
      "text/plain": [
       "   x1  x2  x3  x4  x5  x6  x7  t1  t2  t3  t4  t5  t6  t7\n",
       "0   1   1   1  -1   1   1   1  -1  -1  -1  -1   1   1  -1\n",
       "1  -1  -1   1  -1  -1   1  -1  -1  -1  -1  -1   1  -1   1\n",
       "2   1  -1   1   1   1  -1   1  -1  -1  -1  -1   1  -1  -1\n",
       "3   1  -1   1   1  -1   1   1  -1  -1  -1  -1  -1   1   1\n",
       "4  -1   1   1   1  -1   1  -1  -1  -1  -1  -1  -1   1  -1\n",
       "5   1   1  -1   1  -1   1   1  -1  -1  -1  -1  -1  -1   1\n",
       "6   1   1  -1   1   1   1   1  -1  -1  -1  -1  -1  -1  -1"
      ]
     },
     "execution_count": 8,
     "metadata": {},
     "output_type": "execute_result"
    }
   ],
   "source": [
    "df = pd.read_csv('hetero_memory_dataset.csv')\n",
    "\n",
    "n = int(df.shape[1]/2)\n",
    "\n",
    "df"
   ]
  },
  {
   "cell_type": "markdown",
   "metadata": {},
   "source": [
    "## Extracting Input and Target"
   ]
  },
  {
   "cell_type": "code",
   "execution_count": 15,
   "metadata": {},
   "outputs": [],
   "source": [
    "input_list = df.iloc[:,:n].to_numpy().tolist()\n",
    "\n",
    "target_list = df.iloc[:,-n:].to_numpy().tolist()\n",
    "\n",
    "input_np_transpose = df.iloc[:,:n].to_numpy().transpose()\n",
    "\n",
    "target_np = df.iloc[:,-n:].to_numpy()\n",
    "\n",
    "weights_np = input_np_transpose.dot(target_np) #weights calculated\n",
    "\n",
    "weights = weights_np.tolist() "
   ]
  },
  {
   "cell_type": "markdown",
   "metadata": {},
   "source": [
    "## Testing Phase"
   ]
  },
  {
   "cell_type": "code",
   "execution_count": 17,
   "metadata": {},
   "outputs": [
    {
     "name": "stdout",
     "output_type": "stream",
     "text": [
      "[1, 1, 1, -1, 1, 1, 1]--->[-1, -1, -1, -1, 1, 1, -1]-->[-1, -1, -1, -1, 1, 1, -1]--->True\n",
      "[-1, -1, 1, -1, -1, 1, -1]--->[1, 1, 1, 1, 1, 1, 1]-->[-1, -1, -1, -1, 1, -1, 1]--->False\n",
      "[1, -1, 1, 1, 1, -1, 1]--->[-1, -1, -1, -1, 1, -1, -1]-->[-1, -1, -1, -1, 1, -1, -1]--->True\n",
      "[1, -1, 1, 1, -1, 1, 1]--->[-1, -1, -1, -1, -1, 1, 1]-->[-1, -1, -1, -1, -1, 1, 1]--->True\n",
      "[-1, 1, 1, 1, -1, 1, -1]--->[-1, -1, -1, -1, -1, 1, 1]-->[-1, -1, -1, -1, -1, 1, -1]--->False\n",
      "[1, 1, -1, 1, -1, 1, 1]--->[-1, -1, -1, -1, -1, -1, 1]-->[-1, -1, -1, -1, -1, -1, 1]--->True\n",
      "[1, 1, -1, 1, 1, 1, 1]--->[-1, -1, -1, -1, -1, -1, -1]-->[-1, -1, -1, -1, -1, -1, -1]--->True\n"
     ]
    }
   ],
   "source": [
    "output_list = []\n",
    "\n",
    "#testing\n",
    "for p in range(n):\n",
    "    output_row = []\n",
    "    x = input_list[p]\n",
    "    y = target_list[p]\n",
    "    for j in range(n):\n",
    "        summation = 0\n",
    "        for i in range(n):\n",
    "            summation += x[i]*weights[i][j]\n",
    "        if summation > 0:\n",
    "            output_row.append(1)\n",
    "        else:\n",
    "            output_row.append(-1)\n",
    "    output_list.append(output_row)\n",
    "    \n",
    "for i in range(len(output_list)):\n",
    "    print(f'{input_list[i]}--->{output_list[i]}-->{target_list[i]}--->{output_list[i] == target_list[i]}')"
   ]
  },
  {
   "cell_type": "code",
   "execution_count": null,
   "metadata": {},
   "outputs": [],
   "source": []
  }
 ],
 "metadata": {
  "kernelspec": {
   "display_name": "Python 3",
   "language": "python",
   "name": "python3"
  },
  "language_info": {
   "codemirror_mode": {
    "name": "ipython",
    "version": 3
   },
   "file_extension": ".py",
   "mimetype": "text/x-python",
   "name": "python",
   "nbconvert_exporter": "python",
   "pygments_lexer": "ipython3",
   "version": "3.7.4"
  }
 },
 "nbformat": 4,
 "nbformat_minor": 4
}
