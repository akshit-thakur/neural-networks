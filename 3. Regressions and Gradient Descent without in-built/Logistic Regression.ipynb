{
 "cells": [
  {
   "cell_type": "markdown",
   "metadata": {},
   "source": [
    "## Importing the libraries"
   ]
  },
  {
   "cell_type": "code",
   "execution_count": 1,
   "metadata": {},
   "outputs": [],
   "source": [
    "import pandas as pd\n",
    "import math\n",
    "import random"
   ]
  },
  {
   "cell_type": "code",
   "execution_count": 2,
   "metadata": {},
   "outputs": [
    {
     "name": "stdout",
     "output_type": "stream",
     "text": [
      "     x1    x2  t\n",
      "0  0.80  0.21  1\n",
      "1  0.38  0.50  0\n",
      "2  0.40  0.20  0\n",
      "3  0.50  0.80  1\n",
      "4  0.90  0.90  1\n",
      "5  0.78  0.56  1\n",
      "6  0.23  0.65  0\n",
      "7  0.43  0.25  0\n",
      "8  0.57  0.88  1\n",
      "9  0.80  0.19  0\n"
     ]
    }
   ],
   "source": [
    "df = pd.read_csv('logistic_regression.csv')\n",
    "\n",
    "split_ratio = 0.6 #train-test\n",
    "\n",
    "print(df)"
   ]
  },
  {
   "cell_type": "code",
   "execution_count": 3,
   "metadata": {},
   "outputs": [],
   "source": [
    "def train_test_split(dataset,split):\n",
    "    \n",
    "    list_of_records = dataset.to_numpy().tolist()\n",
    "    \n",
    "    number_of_records = list(dataset.shape)[0]\n",
    "    \n",
    "    train_set_length = int(round(split*number_of_records,0))\n",
    "    test_set_length = number_of_records-train_set_length\n",
    "    \n",
    "    train_set = []\n",
    "    test_set = []\n",
    "    \n",
    "    for i in range(train_set_length):\n",
    "        train_set.append(0)\n",
    "    \n",
    "    for i in range(test_set_length):\n",
    "        test_set.append(0)\n",
    "\n",
    "    train_set_above = []\n",
    "    test_set_above = []\n",
    "    \n",
    "    train_set_below = []\n",
    "    test_set_below = []\n",
    "    \n",
    "    \n",
    "    records_lt_threshold = [record for record in list_of_records if record[-1]==0]\n",
    "    \n",
    "    records_gt_threshold = [record for record in list_of_records if record[-1]==1]\n",
    "    \n",
    "    train_set_length = int(round(split*len(records_lt_threshold),0))\n",
    "    test_set_length = len(records_lt_threshold)-train_set_length\n",
    "    \n",
    "    #split the zero outputs according to split ratio\n",
    "    \n",
    "    for record in records_lt_threshold:\n",
    "        test_or_train = round(random.uniform(0,1),1)\n",
    "        if len(train_set_below) == train_set_length:\n",
    "            test_set_below.append(record)\n",
    "        elif len(test_set_below) == test_set_length:\n",
    "            train_set_below.append(record)\n",
    "        elif test_or_train < split:\n",
    "            train_set_below.append(record)\n",
    "        else:\n",
    "            test_set_below.append(record)\n",
    "    \n",
    "    #split the one outputs according to split ratio between train and test\n",
    "    \n",
    "    train_set_length = int(round(split*len(records_gt_threshold),0))\n",
    "    test_set_length = len(records_gt_threshold)-train_set_length\n",
    "    \n",
    "    for record in records_gt_threshold:\n",
    "        test_or_train = round(random.uniform(0,1),1)\n",
    "        if len(train_set_above) == train_set_length:\n",
    "            test_set_above.append(record)\n",
    "        elif len(test_set_above) == test_set_length:\n",
    "            train_set_above.append(record)\n",
    "        elif test_or_train < split:\n",
    "            train_set_above.append(record)\n",
    "        else:\n",
    "            test_set_above.append(record)\n",
    "        \n",
    "        \n",
    "    index_above = 0\n",
    "    index_below = 0\n",
    "    \n",
    "    #randomly assign the zero and one outputs to training set\n",
    "    \n",
    "    for i in range(len(train_set)):\n",
    "        above_or_below = round(random.uniform(0,1),1)\n",
    "        if index_above == len(train_set_above):\n",
    "            train_set[i] = train_set_below[index_below]\n",
    "            index_below += 1\n",
    "        elif index_below == len(train_set_below):\n",
    "            train_set[i] = train_set_above[index_above]\n",
    "            index_above += 1\n",
    "        elif above_or_below < 0.5:\n",
    "            train_set[i] = train_set_below[index_below]\n",
    "            index_below += 1\n",
    "        else:\n",
    "            train_set[i] = train_set_above[index_above]\n",
    "            index_above += 1\n",
    "    \n",
    "    index_above = 0\n",
    "    index_below = 0\n",
    "    \n",
    "    #randomly assign the zero and one outputs to test set\n",
    "    for i in range(len(test_set)):\n",
    "        above_or_below = round(random.uniform(0,1),1)\n",
    "        if index_above == len(test_set_above):\n",
    "            test_set[i] = test_set_below[index_below]\n",
    "            index_below += 1\n",
    "        elif index_below == len(test_set_below):\n",
    "            test_set[i] = test_set_above[index_above]\n",
    "            index_above += 1\n",
    "        elif above_or_below < 0.5:\n",
    "            test_set[i] = test_set_below[index_below]\n",
    "            index_below += 1\n",
    "        else:\n",
    "            test_set[i] = test_set_above[index_above]\n",
    "            index_above += 1\n",
    "    \n",
    "    return train_set,test_set"
   ]
  },
  {
   "cell_type": "code",
   "execution_count": 4,
   "metadata": {},
   "outputs": [],
   "source": [
    "def sigmoid_function(x):\n",
    "    return 1/(1+math.exp(-x))"
   ]
  },
  {
   "cell_type": "code",
   "execution_count": 5,
   "metadata": {},
   "outputs": [],
   "source": [
    "def loss_function(target,predicted):\n",
    "    return -target*math.log(predicted)-(1-target)*math.log(1-predicted) "
   ]
  },
  {
   "cell_type": "code",
   "execution_count": 6,
   "metadata": {},
   "outputs": [],
   "source": [
    "def find_changes(data):\n",
    "    x1=data[0]\n",
    "    x2=data[1]\n",
    "    target=data[-2]\n",
    "    predicted = data[-1]\n",
    "    change = (predicted-target)\n",
    "    loss_w1 = change*x1\n",
    "    loss_w2 = change*x2\n",
    "    loss_b = change\n",
    "    return loss_w1,loss_w2,loss_b"
   ]
  },
  {
   "cell_type": "code",
   "execution_count": 7,
   "metadata": {},
   "outputs": [],
   "source": [
    "def update_coefficients(data,w1,w2,b,learning_rate):\n",
    "    derivate_loss_w1, derivate_loss_w2, derivate_loss_b = find_changes(data=data)\n",
    "    w1 += (-learning_rate*derivate_loss_w1)\n",
    "    w2 += (-learning_rate*derivate_loss_w2)\n",
    "    b += (-learning_rate*derivate_loss_b)\n",
    "    return (w1,w2,b)"
   ]
  },
  {
   "cell_type": "code",
   "execution_count": 13,
   "metadata": {},
   "outputs": [],
   "source": [
    "def logistic_regression(dataset,split):\n",
    "    \n",
    "    w1 = random.uniform(0,1)\n",
    "    w2 = random.uniform(0,1)\n",
    "    b = 1\n",
    "    learning_rate = 0.1\n",
    "    \n",
    "    train,test = train_test_split(dataset,split)\n",
    "    \n",
    "    iterations = 1000\n",
    "\n",
    "    while iterations >= 0:\n",
    "        for row in train:\n",
    "            row_copy = row\n",
    "            predicted = sigmoid_function(w1*row_copy[0]+w2*row_copy[1]+b)\n",
    "            row_copy.append(predicted)\n",
    "            w1,w2,b = update_coefficients(row_copy,w1,w2,b,learning_rate)\n",
    "        iterations -= 1\n",
    "\n",
    "    return w1,w2,b,test"
   ]
  },
  {
   "cell_type": "code",
   "execution_count": 14,
   "metadata": {},
   "outputs": [
    {
     "name": "stdout",
     "output_type": "stream",
     "text": [
      "0.1311930880131156 0.5615327495068186 0.8375016083387408\n"
     ]
    }
   ],
   "source": [
    "w1,w2,b,test_set = logistic_regression(dataset=df,split=split_ratio)\n",
    "\n",
    "print(w1,w2,b)"
   ]
  },
  {
   "cell_type": "markdown",
   "metadata": {},
   "source": [
    "## Testing"
   ]
  },
  {
   "cell_type": "code",
   "execution_count": 16,
   "metadata": {},
   "outputs": [
    {
     "name": "stdout",
     "output_type": "stream",
     "text": [
      "1.0->0.7427627665877139\n",
      "0.0->0.7742859480104796\n",
      "1.0->0.7945093715105791\n",
      "0.0->0.7406111239846894\n"
     ]
    }
   ],
   "source": [
    "test_result = []\n",
    "\n",
    "for record in test_set:\n",
    "    output = sigmoid_function(record[0]*w1+record[1]*w2+b)\n",
    "    test_result.append([record[-1],output])\n",
    "\n",
    "for result in test_result:\n",
    "    print(f'{result[0]}->{result[1]}')"
   ]
  },
  {
   "cell_type": "code",
   "execution_count": null,
   "metadata": {},
   "outputs": [],
   "source": []
  }
 ],
 "metadata": {
  "kernelspec": {
   "display_name": "Python 3",
   "language": "python",
   "name": "python3"
  },
  "language_info": {
   "codemirror_mode": {
    "name": "ipython",
    "version": 3
   },
   "file_extension": ".py",
   "mimetype": "text/x-python",
   "name": "python",
   "nbconvert_exporter": "python",
   "pygments_lexer": "ipython3",
   "version": "3.7.4"
  }
 },
 "nbformat": 4,
 "nbformat_minor": 4
}
