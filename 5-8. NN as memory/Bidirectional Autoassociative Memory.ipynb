{
 "cells": [
  {
   "cell_type": "markdown",
   "metadata": {},
   "source": [
    "## Importing Libraries"
   ]
  },
  {
   "cell_type": "code",
   "execution_count": 22,
   "metadata": {},
   "outputs": [],
   "source": [
    "import pandas as pd\n",
    "import numpy as np"
   ]
  },
  {
   "cell_type": "markdown",
   "metadata": {},
   "source": [
    "## Reading the dataset"
   ]
  },
  {
   "cell_type": "code",
   "execution_count": 23,
   "metadata": {},
   "outputs": [
    {
     "data": {
      "text/html": [
       "<div>\n",
       "<style scoped>\n",
       "    .dataframe tbody tr th:only-of-type {\n",
       "        vertical-align: middle;\n",
       "    }\n",
       "\n",
       "    .dataframe tbody tr th {\n",
       "        vertical-align: top;\n",
       "    }\n",
       "\n",
       "    .dataframe thead th {\n",
       "        text-align: right;\n",
       "    }\n",
       "</style>\n",
       "<table border=\"1\" class=\"dataframe\">\n",
       "  <thead>\n",
       "    <tr style=\"text-align: right;\">\n",
       "      <th></th>\n",
       "      <th>x1</th>\n",
       "      <th>x2</th>\n",
       "      <th>x3</th>\n",
       "      <th>x4</th>\n",
       "      <th>x5</th>\n",
       "      <th>x6</th>\n",
       "      <th>x7</th>\n",
       "      <th>t1</th>\n",
       "      <th>t2</th>\n",
       "      <th>t3</th>\n",
       "    </tr>\n",
       "  </thead>\n",
       "  <tbody>\n",
       "    <tr>\n",
       "      <th>0</th>\n",
       "      <td>1</td>\n",
       "      <td>1</td>\n",
       "      <td>1</td>\n",
       "      <td>-1</td>\n",
       "      <td>1</td>\n",
       "      <td>1</td>\n",
       "      <td>1</td>\n",
       "      <td>-1</td>\n",
       "      <td>-1</td>\n",
       "      <td>-1</td>\n",
       "    </tr>\n",
       "    <tr>\n",
       "      <th>1</th>\n",
       "      <td>-1</td>\n",
       "      <td>-1</td>\n",
       "      <td>1</td>\n",
       "      <td>-1</td>\n",
       "      <td>-1</td>\n",
       "      <td>1</td>\n",
       "      <td>-1</td>\n",
       "      <td>-1</td>\n",
       "      <td>-1</td>\n",
       "      <td>1</td>\n",
       "    </tr>\n",
       "    <tr>\n",
       "      <th>2</th>\n",
       "      <td>1</td>\n",
       "      <td>-1</td>\n",
       "      <td>1</td>\n",
       "      <td>1</td>\n",
       "      <td>1</td>\n",
       "      <td>-1</td>\n",
       "      <td>1</td>\n",
       "      <td>-1</td>\n",
       "      <td>1</td>\n",
       "      <td>-1</td>\n",
       "    </tr>\n",
       "    <tr>\n",
       "      <th>3</th>\n",
       "      <td>1</td>\n",
       "      <td>-1</td>\n",
       "      <td>1</td>\n",
       "      <td>1</td>\n",
       "      <td>-1</td>\n",
       "      <td>1</td>\n",
       "      <td>1</td>\n",
       "      <td>-1</td>\n",
       "      <td>1</td>\n",
       "      <td>1</td>\n",
       "    </tr>\n",
       "    <tr>\n",
       "      <th>4</th>\n",
       "      <td>-1</td>\n",
       "      <td>1</td>\n",
       "      <td>1</td>\n",
       "      <td>1</td>\n",
       "      <td>-1</td>\n",
       "      <td>1</td>\n",
       "      <td>-1</td>\n",
       "      <td>1</td>\n",
       "      <td>-1</td>\n",
       "      <td>-1</td>\n",
       "    </tr>\n",
       "    <tr>\n",
       "      <th>5</th>\n",
       "      <td>1</td>\n",
       "      <td>1</td>\n",
       "      <td>-1</td>\n",
       "      <td>1</td>\n",
       "      <td>-1</td>\n",
       "      <td>1</td>\n",
       "      <td>1</td>\n",
       "      <td>1</td>\n",
       "      <td>-1</td>\n",
       "      <td>1</td>\n",
       "    </tr>\n",
       "    <tr>\n",
       "      <th>6</th>\n",
       "      <td>1</td>\n",
       "      <td>1</td>\n",
       "      <td>-1</td>\n",
       "      <td>1</td>\n",
       "      <td>1</td>\n",
       "      <td>1</td>\n",
       "      <td>1</td>\n",
       "      <td>1</td>\n",
       "      <td>1</td>\n",
       "      <td>-1</td>\n",
       "    </tr>\n",
       "  </tbody>\n",
       "</table>\n",
       "</div>"
      ],
      "text/plain": [
       "   x1  x2  x3  x4  x5  x6  x7  t1  t2  t3\n",
       "0   1   1   1  -1   1   1   1  -1  -1  -1\n",
       "1  -1  -1   1  -1  -1   1  -1  -1  -1   1\n",
       "2   1  -1   1   1   1  -1   1  -1   1  -1\n",
       "3   1  -1   1   1  -1   1   1  -1   1   1\n",
       "4  -1   1   1   1  -1   1  -1   1  -1  -1\n",
       "5   1   1  -1   1  -1   1   1   1  -1   1\n",
       "6   1   1  -1   1   1   1   1   1   1  -1"
      ]
     },
     "execution_count": 23,
     "metadata": {},
     "output_type": "execute_result"
    }
   ],
   "source": [
    "df = pd.read_csv('BAM_memory_dataset.csv')\n",
    "df"
   ]
  },
  {
   "cell_type": "code",
   "execution_count": 24,
   "metadata": {},
   "outputs": [
    {
     "name": "stdout",
     "output_type": "stream",
     "text": [
      "[[-1  3 -1]\n",
      " [ 5 -3 -3]\n",
      " [-5 -1 -1]\n",
      " [ 3  3 -1]\n",
      " [-1  3 -5]\n",
      " [ 1 -3  1]\n",
      " [-1  3 -1]]\n"
     ]
    }
   ],
   "source": [
    "input_df = df.iloc[:,:7]\n",
    "\n",
    "output_df = df.iloc[:,-3:]\n",
    "\n",
    "input_np = input_df.to_numpy()\n",
    "\n",
    "output_np = output_df.to_numpy()\n",
    "\n",
    "weights = input_np.transpose().dot(output_np)\n",
    "\n",
    "weights_1 = []\n",
    "\n",
    "idx = 0\n",
    "for record in input_np.tolist():\n",
    "    record_np = np.array(record)\n",
    "    record_np.transpose(output_np)\n",
    "\n",
    "print(weights)"
   ]
  },
  {
   "cell_type": "code",
   "execution_count": 25,
   "metadata": {
    "scrolled": true
   },
   "outputs": [
    {
     "name": "stdout",
     "output_type": "stream",
     "text": [
      "[[-5, -1, -9], [-9, -13, 11], [-11, 17, -7], [-7, 5, 5], [7, -13, 3], [13, 1, 1], [11, 7, -9]]\n",
      "[-1, -1, -1]-->[-1, -1, -1]-->True\n",
      "[-1, -1, 1]-->[-1, -1, 1]-->True\n",
      "[-1, 1, -1]-->[-1, 1, -1]-->True\n",
      "[-1, 1, 1]-->[-1, 1, 1]-->True\n",
      "[1, -1, 1]-->[1, -1, -1]-->False\n",
      "[1, 1, 1]-->[1, -1, 1]-->False\n",
      "[1, 1, -1]-->[1, 1, -1]-->True\n"
     ]
    }
   ],
   "source": [
    "test_np = input_np.dot(weights)\n",
    "\n",
    "test_np_list = test_np.tolist()\n",
    "\n",
    "print(test_np_list)\n",
    "\n",
    "test_np_result = []\n",
    "\n",
    "\n",
    "\n",
    "\n",
    "\n",
    "\n",
    "\n",
    "for record in test_np_list:\n",
    "    test_row = []\n",
    "    for i in record:\n",
    "        if i >= 0:\n",
    "            test_row.append(1)\n",
    "        else:\n",
    "            test_row.append(-1)\n",
    "    test_np_result.append(test_row)\n",
    "        \n",
    "\n",
    "for i in range(len(test_np_result)):\n",
    "    print(f'{test_np_result[i]}-->{output_np.tolist()[i]}-->{test_np_result[i]==output_np.tolist()[i]}')"
   ]
  },
  {
   "cell_type": "code",
   "execution_count": 26,
   "metadata": {},
   "outputs": [
    {
     "name": "stdout",
     "output_type": "stream",
     "text": [
      "[-1, 1, 1, -1, 1, 1, -1]-->[1, 1, 1, -1, 1, 1, 1]-->False\n",
      "[-1, -1, 1, -1, -1, 1, -1]-->[-1, -1, 1, -1, -1, 1, -1]-->True\n",
      "[1, -1, 1, 1, 1, -1, 1]-->[1, -1, 1, 1, 1, -1, 1]-->True\n",
      "[1, -1, 1, -1, -1, -1, 1]-->[1, -1, 1, 1, -1, 1, 1]-->False\n",
      "[-1, 1, -1, 1, 1, 1, -1]-->[-1, 1, 1, 1, -1, 1, -1]-->False\n",
      "[-1, 1, -1, -1, -1, 1, -1]-->[1, 1, -1, 1, -1, 1, 1]-->False\n",
      "[1, 1, -1, 1, 1, -1, 1]-->[1, 1, -1, 1, 1, 1, 1]-->False\n"
     ]
    }
   ],
   "source": [
    "test_reverse = output_np.dot(weights.transpose()).tolist()\n",
    "\n",
    "test_np_result = []\n",
    "\n",
    "for record in test_reverse:\n",
    "    test_row = []\n",
    "    for i in record:\n",
    "        if i >= 0:\n",
    "            test_row.append(1)\n",
    "        else:\n",
    "            test_row.append(-1)\n",
    "    test_np_result.append(test_row)\n",
    "\n",
    "for i in range(len(test_np_result)):\n",
    "    print(f'{test_np_result[i]}-->{input_np.tolist()[i]}-->{test_np_result[i]==input_np.tolist()[i]}')"
   ]
  },
  {
   "cell_type": "code",
   "execution_count": null,
   "metadata": {},
   "outputs": [],
   "source": []
  }
 ],
 "metadata": {
  "kernelspec": {
   "display_name": "Python 3",
   "language": "python",
   "name": "python3"
  },
  "language_info": {
   "codemirror_mode": {
    "name": "ipython",
    "version": 3
   },
   "file_extension": ".py",
   "mimetype": "text/x-python",
   "name": "python",
   "nbconvert_exporter": "python",
   "pygments_lexer": "ipython3",
   "version": "3.8.5"
  }
 },
 "nbformat": 4,
 "nbformat_minor": 4
}
