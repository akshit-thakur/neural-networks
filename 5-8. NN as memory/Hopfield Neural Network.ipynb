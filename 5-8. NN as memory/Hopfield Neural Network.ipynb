{
 "cells": [
  {
   "cell_type": "markdown",
   "metadata": {},
   "source": [
    "## Importing libraries"
   ]
  },
  {
   "cell_type": "code",
   "execution_count": 1,
   "metadata": {},
   "outputs": [],
   "source": [
    "import pandas as pd\n",
    "import random"
   ]
  },
  {
   "cell_type": "markdown",
   "metadata": {},
   "source": [
    "## Reading Data"
   ]
  },
  {
   "cell_type": "code",
   "execution_count": 2,
   "metadata": {},
   "outputs": [
    {
     "name": "stdout",
     "output_type": "stream",
     "text": [
      "   x1  x2  x3  x4  x5  x6\n",
      "0   1   1   1   1   0   0\n",
      "1   0   1   1   1   1   1\n"
     ]
    },
    {
     "data": {
      "text/html": [
       "<div>\n",
       "<style scoped>\n",
       "    .dataframe tbody tr th:only-of-type {\n",
       "        vertical-align: middle;\n",
       "    }\n",
       "\n",
       "    .dataframe tbody tr th {\n",
       "        vertical-align: top;\n",
       "    }\n",
       "\n",
       "    .dataframe thead th {\n",
       "        text-align: right;\n",
       "    }\n",
       "</style>\n",
       "<table border=\"1\" class=\"dataframe\">\n",
       "  <thead>\n",
       "    <tr style=\"text-align: right;\">\n",
       "      <th></th>\n",
       "      <th>x1</th>\n",
       "      <th>x2</th>\n",
       "      <th>x3</th>\n",
       "      <th>x4</th>\n",
       "      <th>x5</th>\n",
       "      <th>x6</th>\n",
       "    </tr>\n",
       "  </thead>\n",
       "  <tbody>\n",
       "    <tr>\n",
       "      <th>0</th>\n",
       "      <td>1</td>\n",
       "      <td>1</td>\n",
       "      <td>1</td>\n",
       "      <td>0</td>\n",
       "      <td>1</td>\n",
       "      <td>0</td>\n",
       "    </tr>\n",
       "    <tr>\n",
       "      <th>1</th>\n",
       "      <td>0</td>\n",
       "      <td>1</td>\n",
       "      <td>0</td>\n",
       "      <td>1</td>\n",
       "      <td>1</td>\n",
       "      <td>1</td>\n",
       "    </tr>\n",
       "    <tr>\n",
       "      <th>2</th>\n",
       "      <td>0</td>\n",
       "      <td>0</td>\n",
       "      <td>1</td>\n",
       "      <td>1</td>\n",
       "      <td>1</td>\n",
       "      <td>1</td>\n",
       "    </tr>\n",
       "  </tbody>\n",
       "</table>\n",
       "</div>"
      ],
      "text/plain": [
       "   x1  x2  x3  x4  x5  x6\n",
       "0   1   1   1   0   1   0\n",
       "1   0   1   0   1   1   1\n",
       "2   0   0   1   1   1   1"
      ]
     },
     "execution_count": 2,
     "metadata": {},
     "output_type": "execute_result"
    }
   ],
   "source": [
    "df = pd.read_csv('hopfield_feautre_matrix.csv')\n",
    "\n",
    "print(df)\n",
    "\n",
    "\n",
    "df_test = pd.read_csv('hopfield_test_data.csv')\n",
    "\n",
    "df_test"
   ]
  },
  {
   "cell_type": "code",
   "execution_count": 3,
   "metadata": {},
   "outputs": [],
   "source": [
    "input_matrix = df.to_numpy().tolist()\n",
    "\n",
    "output_matrix = df.to_numpy().tolist()\n",
    "\n",
    "number_of_patterns = len(input_matrix)\n",
    "\n",
    "number_of_neurons = len(input_matrix[0])\n",
    "\n",
    "\n",
    "test_input_matrix = df_test.to_numpy().tolist()\n",
    "\n",
    "number_of_test_patterns = len(test_input_matrix)"
   ]
  },
  {
   "cell_type": "code",
   "execution_count": 4,
   "metadata": {},
   "outputs": [
    {
     "name": "stdout",
     "output_type": "stream",
     "text": [
      "[0, 0, 0, 0, 0, 0]\n",
      "[0, 0, 0, 0, 0, 0]\n",
      "[0, 0, 0, 0, 0, 0]\n",
      "[0, 0, 0, 0, 0, 0]\n",
      "[0, 0, 0, 0, 0, 0]\n",
      "[0, 0, 0, 0, 0, 0]\n"
     ]
    }
   ],
   "source": [
    "weight_matrix = []\n",
    "\n",
    "for i in range(number_of_neurons):\n",
    "    weight_row = []\n",
    "    for j in range(number_of_neurons):\n",
    "        weight_row.append(0)\n",
    "    weight_matrix.append(weight_row)\n",
    "\n",
    "for weight_row in weight_matrix:\n",
    "    print(weight_row)"
   ]
  },
  {
   "cell_type": "code",
   "execution_count": 5,
   "metadata": {},
   "outputs": [
    {
     "name": "stdout",
     "output_type": "stream",
     "text": [
      "[0, 0, 0, 0, -2, -2]\n",
      "[0, 0, 2, 2, 0, 0]\n",
      "[0, 2, 0, 2, 0, 0]\n",
      "[0, 2, 2, 0, 0, 0]\n",
      "[-2, 0, 0, 0, 0, 2]\n",
      "[-2, 0, 0, 0, 2, 0]\n"
     ]
    }
   ],
   "source": [
    "for p in range(number_of_patterns):\n",
    "    for i in range(number_of_neurons):\n",
    "        for j in range(number_of_neurons):\n",
    "            if i==j:\n",
    "                weight_matrix[i][j] = 0\n",
    "            else:\n",
    "                weight_matrix[i][j] += (2*input_matrix[p][i]-1)*(2*input_matrix[p][j]-1)\n",
    "\n",
    "                \n",
    "for weight_row in weight_matrix:\n",
    "    print(weight_row)"
   ]
  },
  {
   "cell_type": "code",
   "execution_count": 6,
   "metadata": {},
   "outputs": [
    {
     "name": "stdout",
     "output_type": "stream",
     "text": [
      "[4, 3, 6, 5, 1, 2]\n"
     ]
    }
   ],
   "source": [
    "sample_order = [1,2,3,4,5,6]\n",
    "activation_order = [4,3,6,5,1,2]\n",
    "\n",
    "# for _ in range(len(sample_order)):\n",
    "#     activation_order.append(0)\n",
    "\n",
    "# for i in range(len(activation_order)):\n",
    "#     index = random.randrange(0, 6, 1);\n",
    "#     while(sample_order[index] in activation_order):\n",
    "#         index = random.randrange(0, 6, 1);\n",
    "#     activation_order[i] = sample_order[index]\n",
    "    \n",
    "print(activation_order)"
   ]
  },
  {
   "cell_type": "code",
   "execution_count": 8,
   "metadata": {},
   "outputs": [
    {
     "name": "stdout",
     "output_type": "stream",
     "text": [
      "[1, 1, 1, 1, 0, 0]\n",
      "[0, 1, 1, 1, 1, 1]\n",
      "[0, 1, 1, 1, 1, 1]\n"
     ]
    }
   ],
   "source": [
    "test_output_matrix = df_test.to_numpy().tolist() #s = t\n",
    "\n",
    "for p in range(number_of_test_patterns):\n",
    "    for i in activation_order:\n",
    "        summation = 0\n",
    "        for k in range(number_of_neurons):\n",
    "            summation += test_output_matrix[p][k]*weight_matrix[i-1][k]\n",
    "        test_output_matrix[p][i-1] += summation\n",
    "        if test_output_matrix[p][i-1] > 0:\n",
    "            test_output_matrix[p][i-1] = 1\n",
    "        else:\n",
    "            test_output_matrix[p][i-1] = 0\n",
    "    if test_output_matrix[p] not in input_matrix:\n",
    "        p -= 1\n",
    "    \n",
    "    \n",
    "for row in test_output_matrix:\n",
    "    print(row)"
   ]
  }
 ],
 "metadata": {
  "kernelspec": {
   "display_name": "Python 3",
   "language": "python",
   "name": "python3"
  },
  "language_info": {
   "codemirror_mode": {
    "name": "ipython",
    "version": 3
   },
   "file_extension": ".py",
   "mimetype": "text/x-python",
   "name": "python",
   "nbconvert_exporter": "python",
   "pygments_lexer": "ipython3",
   "version": "3.8.5"
  }
 },
 "nbformat": 4,
 "nbformat_minor": 4
}
